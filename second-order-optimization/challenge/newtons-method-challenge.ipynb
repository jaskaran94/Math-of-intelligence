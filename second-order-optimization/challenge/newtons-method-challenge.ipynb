{
 "cells": [
  {
   "cell_type": "code",
   "execution_count": 146,
   "metadata": {},
   "outputs": [],
   "source": [
    "import numpy as np\n",
    "import pandas as pd\n",
    "import matplotlib.pyplot as plt"
   ]
  },
  {
   "cell_type": "code",
   "execution_count": 147,
   "metadata": {
    "scrolled": false
   },
   "outputs": [
    {
     "data": {
      "text/plain": [
       "array(['color', 'director_name', 'num_critic_for_reviews', 'duration',\n",
       "       'director_facebook_likes', 'actor_3_facebook_likes',\n",
       "       'actor_2_name', 'actor_1_facebook_likes', 'gross', 'genres',\n",
       "       'actor_1_name', 'movie_title', 'num_voted_users',\n",
       "       'cast_total_facebook_likes', 'actor_3_name',\n",
       "       'facenumber_in_poster', 'plot_keywords', 'movie_imdb_link',\n",
       "       'num_user_for_reviews', 'language', 'country', 'content_rating',\n",
       "       'budget', 'title_year', 'actor_2_facebook_likes', 'imdb_score',\n",
       "       'aspect_ratio', 'movie_facebook_likes'], dtype=object)"
      ]
     },
     "execution_count": 147,
     "metadata": {},
     "output_type": "execute_result"
    }
   ],
   "source": [
    "# Load the IMDB data\n",
    "movie_data = pd.read_csv('movie_metadata.csv')\n",
    "movie_data.columns.values"
   ]
  },
  {
   "cell_type": "code",
   "execution_count": 148,
   "metadata": {},
   "outputs": [
    {
     "data": {
      "text/html": [
       "<div>\n",
       "<style scoped>\n",
       "    .dataframe tbody tr th:only-of-type {\n",
       "        vertical-align: middle;\n",
       "    }\n",
       "\n",
       "    .dataframe tbody tr th {\n",
       "        vertical-align: top;\n",
       "    }\n",
       "\n",
       "    .dataframe thead th {\n",
       "        text-align: right;\n",
       "    }\n",
       "</style>\n",
       "<table border=\"1\" class=\"dataframe\">\n",
       "  <thead>\n",
       "    <tr style=\"text-align: right;\">\n",
       "      <th></th>\n",
       "      <th>gross</th>\n",
       "      <th>imdb_score</th>\n",
       "    </tr>\n",
       "  </thead>\n",
       "  <tbody>\n",
       "    <tr>\n",
       "      <th>count</th>\n",
       "      <td>3235.000000</td>\n",
       "      <td>3235.000000</td>\n",
       "    </tr>\n",
       "    <tr>\n",
       "      <th>mean</th>\n",
       "      <td>79.764661</td>\n",
       "      <td>6.385533</td>\n",
       "    </tr>\n",
       "    <tr>\n",
       "      <th>std</th>\n",
       "      <td>109.842143</td>\n",
       "      <td>1.049178</td>\n",
       "    </tr>\n",
       "    <tr>\n",
       "      <th>min</th>\n",
       "      <td>0.001044</td>\n",
       "      <td>1.600000</td>\n",
       "    </tr>\n",
       "    <tr>\n",
       "      <th>25%</th>\n",
       "      <td>14.132349</td>\n",
       "      <td>5.800000</td>\n",
       "    </tr>\n",
       "    <tr>\n",
       "      <th>50%</th>\n",
       "      <td>44.210734</td>\n",
       "      <td>6.500000</td>\n",
       "    </tr>\n",
       "    <tr>\n",
       "      <th>75%</th>\n",
       "      <td>102.207258</td>\n",
       "      <td>7.100000</td>\n",
       "    </tr>\n",
       "    <tr>\n",
       "      <th>max</th>\n",
       "      <td>1363.206376</td>\n",
       "      <td>9.300000</td>\n",
       "    </tr>\n",
       "  </tbody>\n",
       "</table>\n",
       "</div>"
      ],
      "text/plain": [
       "             gross   imdb_score\n",
       "count  3235.000000  3235.000000\n",
       "mean     79.764661     6.385533\n",
       "std     109.842143     1.049178\n",
       "min       0.001044     1.600000\n",
       "25%      14.132349     5.800000\n",
       "50%      44.210734     6.500000\n",
       "75%     102.207258     7.100000\n",
       "max    1363.206376     9.300000"
      ]
     },
     "execution_count": 148,
     "metadata": {},
     "output_type": "execute_result"
    }
   ],
   "source": [
    "# Data cleaning will be using imdb score and gross rev\n",
    "# Drop rows with missing gross revenue data (standard practice in regression analysis)\n",
    "movie_data = movie_data.dropna(subset = ['gross'])\n",
    "\n",
    "# Only keep data on movies from US\n",
    "movie_data = movie_data[movie_data['country'] == \"USA\"]\n",
    "\n",
    "# Assuming a average US inflation rate of 2.5% convert gross revenue in terms of 2017 $\n",
    "movie_data[['gross']] = (1.025**(2017 - movie_data['title_year']))*movie_data['gross']\n",
    "\n",
    "movie_data = movie_data[['gross', 'imdb_score']]\n",
    "\n",
    "# Let's scale the gross revenue to be in millions of dollars so its easier to read\n",
    "movie_data[['gross']] = movie_data[['gross']]/1000000\n",
    "\n",
    "movie_data.describe()"
   ]
  },
  {
   "cell_type": "code",
   "execution_count": 149,
   "metadata": {},
   "outputs": [
    {
     "data": {
      "image/png": "[encoded data removed]",
      "text/plain": [
       "<Figure size 432x288 with 1 Axes>"
      ]
     },
     "metadata": {
      "needs_background": "light"
     },
     "output_type": "display_data"
    }
   ],
   "source": [
    "# Visualize data\n",
    "plt.scatter(movie_data['imdb_score'], movie_data['gross'])\n",
    "plt.title('IMDB Rating and Gross Sales')\n",
    "\n",
    "plt.ylabel('Gross sales rev ($ millions)')\n",
    "\n",
    "plt.xlabel('IMDB Rating (0-10)')\n",
    "\n",
    "plt.show()"
   ]
  },
  {
   "cell_type": "code",
   "execution_count": 150,
   "metadata": {},
   "outputs": [],
   "source": [
    "# Data size, this is the derivative with respect to B0^2\n",
    "n = len(movie_data.index)\n",
    "\n",
    "sum_imdb = sum(movie_data['imdb_score'])\n",
    "\n",
    "sum_sq_imdb = sum(np.power(movie_data['imdb_score'], 2))\n",
    "\n",
    "H = [[n, sum_imdb], [sum_imdb, sum_sq_imdb]]\n",
    "\n",
    "epsilon = 10 ** -4\n",
    "\n",
    "criterion = 10\n",
    "\n",
    "new_param = np.array((-50, 10))"
   ]
  },
  {
   "cell_type": "code",
   "execution_count": 151,
   "metadata": {},
   "outputs": [],
   "source": [
    "def newton_update(old_param, hessian, jacobian):\n",
    "    new_param = np.array(np.subtract(old_param, np.dot(np.linalg.inv(hessian), jacobian)))\n",
    "    return new_param"
   ]
  },
  {
   "cell_type": "code",
   "execution_count": 152,
   "metadata": {},
   "outputs": [
    {
     "name": "stdout",
     "output_type": "stream",
     "text": [
      "[-113.36228051   30.2444501 ]\n",
      "[-113.36228051   30.2444501 ]\n"
     ]
    }
   ],
   "source": [
    "gross_rev = np.array(movie_data['gross'])\n",
    "\n",
    "imdb_score = np.array(movie_data['imdb_score'])\n",
    "\n",
    "while criterion > epsilon:\n",
    "    old_param = new_param\n",
    "    \n",
    "    #Compute gradient vector\n",
    "    J_pos0 = -1 * (np.nansum(gross_rev)-n*old_param[0]-old_param[1]*sum_imdb)\n",
    "    J_pos1 = -1 * (np.nansum(gross_rev * imdb_score)-old_param[0]*sum_imdb-old_param[1]*sum_sq_imdb)\n",
    "    J = np.array([J_pos0, J_pos1])\n",
    "    \n",
    "    # Apply newton's update rule\n",
    "    new_param = newton_update(old_param, H, J)\n",
    "    print(new_param)\n",
    "    \n",
    "    # Compute creterion function using euclidean distance\n",
    "    criterion = np.linalg.norm(new_param-old_param)\n",
    "    "
   ]
  },
  {
   "cell_type": "code",
   "execution_count": 160,
   "metadata": {},
   "outputs": [
    {
     "data": {
      "image/png": "[encoded data removed]",
      "text/plain": [
       "<Figure size 432x288 with 1 Axes>"
      ]
     },
     "metadata": {
      "needs_background": "light"
     },
     "output_type": "display_data"
    },
    {
     "name": "stdout",
     "output_type": "stream",
     "text": [
      "189.08222047986285\n"
     ]
    }
   ],
   "source": [
    "plt.plot(imdb_score, new_param[1]*imdb_score + new_param[0], '-k')\n",
    "\n",
    "# Visualize data\n",
    "plt.scatter(imdb_score, gross_rev)\n",
    "\n",
    "# Chart title\n",
    "plt.title('IMDB Rating and Gross Sales')\n",
    "\n",
    "# y label\n",
    "plt.ylabel('Gross sales revenue ($ millions)')\n",
    "\n",
    "# x label\n",
    "plt.xlabel('IMDB Rating (0 - 10)')\n",
    "\n",
    "plt.show()\n",
    "\n",
    "\n",
    "calculateRevForRating(10.0, new_param[1], new_param[0])"
   ]
  },
  {
   "cell_type": "code",
   "execution_count": 154,
   "metadata": {},
   "outputs": [],
   "source": [
    "# normal linear regression from here\n",
    "def compute_error_for_line_given_points(b, m, points):\n",
    "    totalError = 0\n",
    "    for i in range(0, len(points)):\n",
    "        x = points[i, 0]\n",
    "        y = points[i, 1]\n",
    "        totalError += (y -(m*x + b)) ** 2\n",
    "    return totalError/float(len(points))"
   ]
  },
  {
   "cell_type": "code",
   "execution_count": 155,
   "metadata": {},
   "outputs": [],
   "source": [
    "def step_gradient(b_current, m_current, points, learningRate):\n",
    "    b_gradient = 0\n",
    "    m_gradient = 0\n",
    "    N = float(len(points))\n",
    "    for i in range(0, len(points)):\n",
    "        x = points[i, 0]\n",
    "        y = points[i, 1]\n",
    "        b_gradient += -(2/N) * (y - ((m_current * x) + b_current))\n",
    "        m_gradient += -(2/N) * x * (y - ((m_current * x) + b_current))\n",
    "    new_b = b_current - (learningRate * b_gradient)\n",
    "    new_m = m_current - (learningRate * m_gradient)\n",
    "    return [new_b, new_m]"
   ]
  },
  {
   "cell_type": "code",
   "execution_count": 156,
   "metadata": {},
   "outputs": [],
   "source": [
    "def gradient_descent_runner(points, starting_b, starting_m, learningRate, num_iterations):\n",
    "    b = starting_b\n",
    "    m = starting_m\n",
    "    for i in range(num_iterations):\n",
    "        b, m = step_gradient(b, m, np.array(points), learningRate)\n",
    "        if i % 100 == 0:\n",
    "            print('Iteration {0}, b:{1}, m:{2}, error:{3}'.format(i, b, m, compute_error_for_line_given_points(b, m, points)))\n",
    "    return [b, m] "
   ]
  },
  {
   "cell_type": "code",
   "execution_count": 157,
   "metadata": {},
   "outputs": [
    {
     "name": "stderr",
     "output_type": "stream",
     "text": [
      "/Library/Frameworks/Python.framework/Versions/3.7/lib/python3.7/site-packages/ipykernel_launcher.py:1: FutureWarning: Method .as_matrix will be removed in a future version. Use .values instead.\n",
      "  \"\"\"Entry point for launching an IPython kernel.\n"
     ]
    },
    {
     "name": "stdout",
     "output_type": "stream",
     "text": [
      "Starting gradient descent at b = 0, m=0, error=18423.96792152913\n",
      "Running\n",
      "Iteration 0, b:3.1905864252195837, m:21.704876103367187, error:14982.088159798002\n",
      "Iteration 100, b:-9.437198641087685, m:14.38733087883985, error:11338.79593509229\n",
      "Iteration 200, b:-19.58780523942947, m:15.936132920601855, error:11286.05984232879\n",
      "Iteration 300, b:-28.746978273655795, m:17.333659832794385, error:11243.122369029135\n",
      "Iteration 400, b:-37.01155338630023, m:18.594687012278442, error:11208.162884608786\n",
      "Iteration 500, b:-44.468908055472106, m:19.732546708234366, error:11179.699040394944\n",
      "Iteration 600, b:-51.19788539596915, m:20.759268977781744, error:11156.523915221762\n",
      "Iteration 700, b:-57.26962773056708, m:21.685708874133805, error:11137.654839676105\n",
      "Iteration 800, b:-62.7483287444459, m:22.521661211985755, error:11122.291729043973\n",
      "Iteration 900, b:-67.69191217492835, m:23.275964123498763, error:11109.783158196222\n",
      "Iteration 1000, b:-72.15264421199895, m:23.956592499727698, error:11099.598739923184\n",
      "Iteration 1100, b:-76.17768608422753, m:24.57074230540568, error:11091.306635507404\n",
      "Iteration 1200, b:-79.8095926723295, m:25.124906658505534, error:11084.55524394064\n",
      "Iteration 1300, b:-83.08676242196854, m:25.62494447893204, error:11079.058293371427\n",
      "Iteration 1400, b:-86.04384331252143, m:26.076142432135356, error:11074.582702634088\n",
      "Iteration 1500, b:-88.71209917392021, m:26.483270822546324, error:11070.938698163664\n",
      "Iteration 1600, b:-91.11974022446914, m:26.850634027768894, error:11067.971767235449\n",
      "Iteration 1700, b:-93.29222132425745, m:27.182116006746522, error:11065.556106331569\n",
      "Iteration 1800, b:-95.25251109746158, m:27.481221363039186, error:11063.589286832304\n",
      "Iteration 1900, b:-97.02133476884048, m:27.75111239735394, error:11061.9879118478\n",
      "Iteration 2000, b:-98.61739328182045, m:27.994642541067623, error:11060.684080030918\n",
      "Iteration 2100, b:-100.05756101480327, m:28.214386524219147, error:11059.622506431377\n",
      "Iteration 2200, b:-101.3570641860574, m:28.41266759692305, error:11058.758178308088\n",
      "Iteration 2300, b:-102.52964183338607, m:28.59158209200394, error:11058.054446503704\n",
      "Iteration 2400, b:-103.58769107053253, m:28.753021588540538, error:11057.481471450434\n",
      "Iteration 2500, b:-104.54239815605186, m:28.8986929106444, error:11057.01495791553\n",
      "Iteration 2600, b:-105.40385676037816, m:29.030136172911345, error:11056.635124837341\n",
      "Iteration 2700, b:-106.18117468147048, m:29.148741063330668, error:11056.325866570362\n",
      "Iteration 2800, b:-106.88257013728999, m:29.255761535805018, error:11056.074069975572\n",
      "Iteration 2900, b:-107.51545865316655, m:29.352329067617106, error:11055.869058398128\n",
      "Iteration 3000, b:-108.08653146267093, m:29.43946462200846, error:11055.702138956935\n",
      "Iteration 3100, b:-108.60182625089044, m:29.518089442345214, error:11055.56623395013\n",
      "Iteration 3200, b:-109.06679098804305, m:29.589034791992283, error:11055.455580746677\n",
      "Iteration 3300, b:-109.48634152831227, m:29.653050742871283, error:11055.365487440182\n",
      "Iteration 3400, b:-109.86491358286868, m:29.710814105619185, error:11055.292133902945\n",
      "Iteration 3500, b:-110.206509616565, m:29.762935585189968, error:11055.232409805414\n",
      "Iteration 3600, b:-110.51474116412003, m:29.809966237551805, error:11055.183782732282\n",
      "Iteration 3700, b:-110.7928670131827, m:29.85240329574353, error:11055.144190803012\n",
      "Iteration 3800, b:-111.0438276579655, m:29.890695426886218, error:11055.111955244434\n",
      "Iteration 3900, b:-111.27027638771155, m:29.925247475730544, error:11055.08570920758\n",
      "Iteration 4000, b:-111.47460733867786, m:29.95642474489034, error:11055.064339810511\n",
      "Iteration 4100, b:-111.65898080621572, m:29.98455685701614, error:11055.046940950046\n",
      "Iteration 4200, b:-111.82534608456024, m:30.00994123974064, error:11055.032774881514\n",
      "Iteration 4300, b:-111.97546207580494, m:30.032846270241848, error:11055.02124093659\n",
      "Iteration 4400, b:-112.1109158859487, m:30.05351411266908, error:11055.011850054065\n",
      "Iteration 4500, b:-112.23313960462323, m:30.072163278430832, error:11055.004204042612\n",
      "Iteration 4600, b:-112.34342544590574, m:30.088990936413705, error:11054.997978696854\n",
      "Iteration 4700, b:-112.44293941029261, m:30.104174997556598, error:11054.992910050218\n",
      "Iteration 4800, b:-112.5327336122756, m:30.117875995819293, error:11054.988783182522\n",
      "Iteration 4900, b:-112.6137574038554, m:30.130238785433328, error:11054.985423106693\n",
      "After 5000 iterations b = -112.6861728815624, m = 30.141288099446356, error = 11054.982712016548\n"
     ]
    }
   ],
   "source": [
    "points = movie_data.as_matrix(['imdb_score', 'gross'])\n",
    "learningRate = 0.02\n",
    "num_iterations = 5000\n",
    "initial_b = 0\n",
    "initial_m = 0\n",
    "print('Starting gradient descent at b = {0}, m={1}, error={2}'.format(initial_b, initial_m, compute_error_for_line_given_points(initial_b, initial_m, points)))\n",
    "print('Running')\n",
    "[b, m] = gradient_descent_runner(points, initial_b, initial_m, learningRate, num_iterations)\n",
    "print('After {0} iterations b = {1}, m = {2}, error = {3}'.format(num_iterations, b, m, compute_error_for_line_given_points(b, m, points)))\n"
   ]
  },
  {
   "cell_type": "code",
   "execution_count": 162,
   "metadata": {},
   "outputs": [
    {
     "data": {
      "image/png": "[encoded data removed]",
      "text/plain": [
       "<Figure size 432x288 with 1 Axes>"
      ]
     },
     "metadata": {
      "needs_background": "light"
     },
     "output_type": "display_data"
    },
    {
     "name": "stdout",
     "output_type": "stream",
     "text": [
      "101.31697262450673\n"
     ]
    }
   ],
   "source": [
    "plt.plot(imdb_score, m*imdb_score + b, '-k')\n",
    "plt.scatter(imdb_score, gross_rev)\n",
    "\n",
    "# Chart title\n",
    "plt.title('IMDB Rating and Gross Sales')\n",
    "\n",
    "# y label\n",
    "plt.ylabel('Gross sales revenue ($ millions)')\n",
    "\n",
    "# x label\n",
    "plt.xlabel('IMDB Rating (0 - 10)')\n",
    "\n",
    "plt.show()\n",
    "\n",
    "\n",
    "calculateRevForRating(7.1, m, b)\n",
    "    "
   ]
  }
 ],
 "metadata": {
  "kernelspec": {
   "display_name": "Python 3",
   "language": "python",
   "name": "python3"
  },
  "language_info": {
   "codemirror_mode": {
    "name": "ipython",
    "version": 3
   },
   "file_extension": ".py",
   "mimetype": "text/x-python",
   "name": "python",
   "nbconvert_exporter": "python",
   "pygments_lexer": "ipython3",
   "version": "3.7.0"
  }
 },
 "nbformat": 4,
 "nbformat_minor": 2
}
