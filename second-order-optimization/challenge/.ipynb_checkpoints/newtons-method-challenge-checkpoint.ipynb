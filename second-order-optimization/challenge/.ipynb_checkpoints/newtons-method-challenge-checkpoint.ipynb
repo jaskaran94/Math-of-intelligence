{
 "cells": [
  {
   "cell_type": "code",
   "execution_count": 64,
   "metadata": {},
   "outputs": [],
   "source": [
    "import numpy as np\n",
    "import pandas as pd\n",
    "import matplotlib.pyplot as plt"
   ]
  },
  {
   "cell_type": "code",
   "execution_count": 65,
   "metadata": {
    "scrolled": true
   },
   "outputs": [
    {
     "data": {
      "text/plain": [
       "array(['color', 'director_name', 'num_critic_for_reviews', 'duration',\n",
       "       'director_facebook_likes', 'actor_3_facebook_likes',\n",
       "       'actor_2_name', 'actor_1_facebook_likes', 'gross', 'genres',\n",
       "       'actor_1_name', 'movie_title', 'num_voted_users',\n",
       "       'cast_total_facebook_likes', 'actor_3_name',\n",
       "       'facenumber_in_poster', 'plot_keywords', 'movie_imdb_link',\n",
       "       'num_user_for_reviews', 'language', 'country', 'content_rating',\n",
       "       'budget', 'title_year', 'actor_2_facebook_likes', 'imdb_score',\n",
       "       'aspect_ratio', 'movie_facebook_likes'], dtype=object)"
      ]
     },
     "execution_count": 65,
     "metadata": {},
     "output_type": "execute_result"
    }
   ],
   "source": [
    "# Load the IMDB data\n",
    "movie_data = pd.read_csv('movie_metadata.csv')\n",
    "movie_data.columns.values"
   ]
  },
  {
   "cell_type": "code",
   "execution_count": 66,
   "metadata": {},
   "outputs": [
    {
     "data": {
      "text/html": [
       "<div>\n",
       "<style scoped>\n",
       "    .dataframe tbody tr th:only-of-type {\n",
       "        vertical-align: middle;\n",
       "    }\n",
       "\n",
       "    .dataframe tbody tr th {\n",
       "        vertical-align: top;\n",
       "    }\n",
       "\n",
       "    .dataframe thead th {\n",
       "        text-align: right;\n",
       "    }\n",
       "</style>\n",
       "<table border=\"1\" class=\"dataframe\">\n",
       "  <thead>\n",
       "    <tr style=\"text-align: right;\">\n",
       "      <th></th>\n",
       "      <th>gross</th>\n",
       "      <th>imdb_score</th>\n",
       "    </tr>\n",
       "  </thead>\n",
       "  <tbody>\n",
       "    <tr>\n",
       "      <th>count</th>\n",
       "      <td>3235.000000</td>\n",
       "      <td>3235.000000</td>\n",
       "    </tr>\n",
       "    <tr>\n",
       "      <th>mean</th>\n",
       "      <td>79.764661</td>\n",
       "      <td>6.385533</td>\n",
       "    </tr>\n",
       "    <tr>\n",
       "      <th>std</th>\n",
       "      <td>109.842143</td>\n",
       "      <td>1.049178</td>\n",
       "    </tr>\n",
       "    <tr>\n",
       "      <th>min</th>\n",
       "      <td>0.001044</td>\n",
       "      <td>1.600000</td>\n",
       "    </tr>\n",
       "    <tr>\n",
       "      <th>25%</th>\n",
       "      <td>14.132349</td>\n",
       "      <td>5.800000</td>\n",
       "    </tr>\n",
       "    <tr>\n",
       "      <th>50%</th>\n",
       "      <td>44.210734</td>\n",
       "      <td>6.500000</td>\n",
       "    </tr>\n",
       "    <tr>\n",
       "      <th>75%</th>\n",
       "      <td>102.207258</td>\n",
       "      <td>7.100000</td>\n",
       "    </tr>\n",
       "    <tr>\n",
       "      <th>max</th>\n",
       "      <td>1363.206376</td>\n",
       "      <td>9.300000</td>\n",
       "    </tr>\n",
       "  </tbody>\n",
       "</table>\n",
       "</div>"
      ],
      "text/plain": [
       "             gross   imdb_score\n",
       "count  3235.000000  3235.000000\n",
       "mean     79.764661     6.385533\n",
       "std     109.842143     1.049178\n",
       "min       0.001044     1.600000\n",
       "25%      14.132349     5.800000\n",
       "50%      44.210734     6.500000\n",
       "75%     102.207258     7.100000\n",
       "max    1363.206376     9.300000"
      ]
     },
     "execution_count": 66,
     "metadata": {},
     "output_type": "execute_result"
    }
   ],
   "source": [
    "# Data cleaning will be using imdb score and gross rev\n",
    "# Drop rows with missing gross revenue data (standard practice in regression analysis)\n",
    "movie_data = movie_data.dropna(subset = ['gross'])\n",
    "\n",
    "# Only keep data on movies from US\n",
    "movie_data = movie_data[movie_data['country'] == \"USA\"]\n",
    "\n",
    "# Assuming a average US inflation rate of 2.5% convert gross revenue in terms of 2017 $\n",
    "movie_data[['gross']] = (1.025**(2017 - movie_data['title_year']))*movie_data['gross']\n",
    "\n",
    "movie_data = movie_data[['gross', 'imdb_score']]\n",
    "\n",
    "# Let's scale the gross revenue to be in millions of dollars so its easier to read\n",
    "movie_data[['gross']] = movie_data[['gross']]/1000000\n",
    "\n",
    "movie_data.describe()"
   ]
  },
  {
   "cell_type": "code",
   "execution_count": 67,
   "metadata": {},
   "outputs": [
    {
     "data": {
      "image/png": "[encoded data removed]",
      "text/plain": [
       "<Figure size 432x288 with 1 Axes>"
      ]
     },
     "metadata": {
      "needs_background": "light"
     },
     "output_type": "display_data"
    }
   ],
   "source": [
    "# Visualize data\n",
    "plt.scatter(movie_data['imdb_score'], movie_data['gross'])\n",
    "plt.title('IMDB Rating and Gross Sales')\n",
    "\n",
    "plt.ylabel('Gross sales rev ($ millions)')\n",
    "\n",
    "plt.xlabel('IMDB Rating (0-10)')\n",
    "\n",
    "plt.show()"
   ]
  },
  {
   "cell_type": "code",
   "execution_count": 80,
   "metadata": {},
   "outputs": [],
   "source": [
    "# Data size, this is the derivative with respect to B0^2\n",
    "n = len(movie_data.index)\n",
    "\n",
    "sum_imdb = sum(movie_data['imdb_score'])\n",
    "\n",
    "sum_sq_imdb = sum(np.power(movie_data['imdb_score'], 2))\n",
    "\n",
    "H = [[n, sum_imdb], [sum_imdb, sum_sq_imdb]]\n",
    "\n",
    "epsilon = 10 ** -4\n",
    "\n",
    "criterion = 10\n",
    "\n",
    "new_param = np.array((-50, 10))"
   ]
  },
  {
   "cell_type": "code",
   "execution_count": 81,
   "metadata": {},
   "outputs": [],
   "source": [
    "def newton_update(old_param, hessian, jacobian):\n",
    "    new_param = np.array(np.subtract(old_param, np.dot(np.linalg.inv(hessian), jacobian)))\n",
    "    return new_param"
   ]
  },
  {
   "cell_type": "code",
   "execution_count": 82,
   "metadata": {},
   "outputs": [
    {
     "name": "stdout",
     "output_type": "stream",
     "text": [
      "[-113.36228051   30.2444501 ]\n",
      "[-113.36228051   30.2444501 ]\n"
     ]
    }
   ],
   "source": [
    "gross_rev = np.array(movie_data['gross'])\n",
    "\n",
    "imdb_score = np.array(movie_data['imdb_score'])\n",
    "\n",
    "while criterion > epsilon:\n",
    "    old_param = new_param\n",
    "    \n",
    "    #Compute gradient vector\n",
    "    J_pos0 = -1 * (np.nansum(gross_rev)-n*old_param[0]-old_param[1]*sum_imdb)\n",
    "    J_pos1 = -1 * (np.nansum(gross_rev * imdb_score)-old_param[0]*sum_imdb-old_param[1]*sum_sq_imdb)\n",
    "    J = np.array([J_pos0, J_pos1])\n",
    "    \n",
    "    # Apply newton's update rule\n",
    "    new_param = newton_update(old_param, H, J)\n",
    "    print(new_param)\n",
    "    \n",
    "    # Compute creterion function using euclidean distance\n",
    "    criterion = np.linalg.norm(new_param-old_param)\n",
    "    "
   ]
  },
  {
   "cell_type": "code",
   "execution_count": 56,
   "metadata": {},
   "outputs": [
    {
     "name": "stdout",
     "output_type": "stream",
     "text": [
      "[-113.36228051   30.2444501 ]\n"
     ]
    }
   ],
   "source": []
  },
  {
   "cell_type": "code",
   "execution_count": 52,
   "metadata": {},
   "outputs": [
    {
     "data": {
      "image/png": "[encoded data removed]",
      "text/plain": [
       "<Figure size 432x288 with 1 Axes>"
      ]
     },
     "metadata": {
      "needs_background": "light"
     },
     "output_type": "display_data"
    },
    {
     "name": "stdout",
     "output_type": "stream",
     "text": [
      "101.37331519396906\n"
     ]
    }
   ],
   "source": [
    "plt.plot(imdb_score, new_param[1]*imdb_score + new_param[0], '-k')\n",
    "\n",
    "# Visualize data\n",
    "plt.scatter(imdb_score, gross_rev)\n",
    "\n",
    "# Chart title\n",
    "plt.title('IMDB Rating and Gross Sales')\n",
    "\n",
    "# y label\n",
    "plt.ylabel('Gross sales revenue ($ millions)')\n",
    "\n",
    "# x label\n",
    "plt.xlabel('IMDB Rating (0 - 10)')\n",
    "\n",
    "plt.show()\n",
    "\n",
    "\n",
    "calculateRevForRating(7.1, new_param[1], new_param[0])"
   ]
  },
  {
   "cell_type": "code",
   "execution_count": 134,
   "metadata": {},
   "outputs": [],
   "source": [
    "# normal linear regression from here\n",
    "def compute_error_for_line_given_points(b, m, points):\n",
    "    totalError = 0\n",
    "    for i in range(0, len(points)):\n",
    "        x = points[i, 0]\n",
    "        y = points[i, 1]\n",
    "        totalError += (y -(m*x + b)) ** 2\n",
    "    return totalError/float(len(points))"
   ]
  },
  {
   "cell_type": "code",
   "execution_count": 103,
   "metadata": {},
   "outputs": [],
   "source": [
    "def step_gradient(b_current, m_current, points, learningRate):\n",
    "    b_gradient = 0\n",
    "    m_gradient = 0\n",
    "    N = float(len(points))\n",
    "    for i in range(0, len(points)):\n",
    "        x = points[i, 0]\n",
    "        y = points[i, 1]\n",
    "        b_gradient += -(2/N) * (y - ((m_current * x) + b_current))\n",
    "        m_gradient += -(2/N) * x * (y - ((m_current * x) + b_current))\n",
    "    new_b = b_current - (learningRate * b_gradient)\n",
    "    new_m = m_current - (learningRate * m_gradient)\n",
    "    return [new_b, new_m]"
   ]
  },
  {
   "cell_type": "code",
   "execution_count": null,
   "metadata": {},
   "outputs": [],
   "source": [
    "def gradient_descent_runner(points, starting_b, starting_m, learningRate, num_iterations):\n",
    "    b = starting_b\n",
    "    m = starting_m\n",
    "    for i in range(num_iterations):\n",
    "        b, m = step_gradient(b, m, np.array(points), learningRate)\n",
    "        if i % 100 == 0:\n",
    "            print('Iteration {0}, b:{1}, m:{2}, error:{3}'.format(i, b, m, compute_error_for_line_given_points(b, m, points)))\n",
    "    return [b, m] "
   ]
  },
  {
   "cell_type": "code",
   "execution_count": null,
   "metadata": {},
   "outputs": [],
   "source": [
    "points = movie_data.as_matrix(['imdb_score', 'gross'])\n",
    "learningRate = 0.02\n",
    "num_iterations = 5000\n",
    "initial_b = 0\n",
    "initial_m = 0\n",
    "print('Starting gradient descent at b = {0}, m={1}, error={2}'.format(initial_b, initial_m, compute_error_for_line_given_points(initial_b, initial_m, points)))\n",
    "print('Running')\n",
    "[b, m] = gradient_descent_runner(points, initial_b, initial_m, learningRate, num_iterations)\n",
    "print('After {0} iterations b = {1}, m = {2}, error = {3}'.format(num_iterations, b, m, compute_error_for_line_given_points(b, m, points)))\n"
   ]
  },
  {
   "cell_type": "code",
   "execution_count": 140,
   "metadata": {},
   "outputs": [
    {
     "data": {
      "image/png": "[encoded data removed]",
      "text/plain": [
       "<Figure size 432x288 with 1 Axes>"
      ]
     },
     "metadata": {
      "needs_background": "light"
     },
     "output_type": "display_data"
    },
    {
     "name": "stdout",
     "output_type": "stream",
     "text": [
      "-6.000894843227802e+20\n"
     ]
    }
   ],
   "source": [
    "plt.plot(imdb_score, m*imdb_score + b, '-k')\n",
    "plt.scatter(imdb_score, gross_rev)\n",
    "\n",
    "# Chart title\n",
    "plt.title('IMDB Rating and Gross Sales')\n",
    "\n",
    "# y label\n",
    "plt.ylabel('Gross sales revenue ($ millions)')\n",
    "\n",
    "# x label\n",
    "plt.xlabel('IMDB Rating (0 - 10)')\n",
    "\n",
    "plt.show()\n",
    "\n",
    "\n",
    "calculateRevForRating(7.1, m, b)\n",
    "    "
   ]
  }
 ],
 "metadata": {
  "kernelspec": {
   "display_name": "Python 3",
   "language": "python",
   "name": "python3"
  },
  "language_info": {
   "codemirror_mode": {
    "name": "ipython",
    "version": 3
   },
   "file_extension": ".py",
   "mimetype": "text/x-python",
   "name": "python",
   "nbconvert_exporter": "python",
   "pygments_lexer": "ipython3",
   "version": "3.7.0"
  }
 },
 "nbformat": 4,
 "nbformat_minor": 2
}
